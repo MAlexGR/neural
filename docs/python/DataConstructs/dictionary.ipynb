{
 "cells": [
  {
   "cell_type": "code",
   "execution_count": 131,
   "metadata": {
    "tags": [
     "hide-cell"
    ]
   },
   "outputs": [],
   "source": [
    "%reset -f"
   ]
  },
  {
   "cell_type": "markdown",
   "metadata": {},
   "source": [
    "# Dictionary\n",
    "\n",
    "Τα *λεξικά*\n",
    "([dictionaries](https://docs.python.org/3/tutorial/datastructures.html#dictionaries))\n",
    "είναι ο ακρογωνιαίος λίθος της Python. Η ίδια η γλώσσα είναι χτισμένη γύρω από\n",
    "λεξικά. Τα Modules, oi classes, objects, globals(), locals() κ.λπ. είναι όλα\n",
    "λεξικά. Τα λεξικά ήταν στο επίκεντρο της Python από την αρχή ήδη της δημιουργίας\n",
    "της.\n",
    "\n",
    "Πρόκειται για μία ειδική δομή δεδομένων που δεν αποτελείται απλά από τιμές αλλά\n",
    "από ζεύγη \"κλειδιών-τιμών\" (**key:value** pairs). Στο κάθε ζεύγος το κλειδί\n",
    "διαχωρίζεται από την τιμή με άνω-κάτω τελεία ( `:` ). Όλα τα ζεύγη περικλείονται\n",
    "μέσα σε άγκιστρα `{ }` και διαχωρίζονται μεταξύ τους με κόμμα ( `,` ). Η γενική\n",
    "μορφή ενός λεξικού είναι:\n",
    "\n",
    "```{code} ipython3\n",
    "Dict = {key_1: val_1, key_2: val_2, ... }\n",
    "```\n",
    "\n",
    "Κενά πριν και μετά το `:` επιτρέπονται. Ο interpreter διατηρεί μόνο ένα κενό\n",
    "μετά το `:` για λόγους αναγνωσιμότητας.\n",
    "\n",
    "Ας δούμε τα χαρακτηριστικά τους και πως μπορούμε να τα χρησιμοποιήσουμε.\n",
    "\n",
    "```{admonition} Βρόγχοι επανάληψης for ... in\n",
    ":class: note\n",
    "Οι βρόγχοι επανάληψης for ... in που θα δείτε σε πολλά από τα παραδείγματα κώδικα\n",
    "στη συνέχεια, χρησιμοποιούνται μόνο για καλύτερη εκτύπωση των αποτελεσμάτων.\n",
    "Δεν έχουν σχέση με το αντικείμενό που εξετάζεται κάθε φορά.\n",
    "```"
   ]
  },
  {
   "cell_type": "markdown",
   "metadata": {},
   "source": [
    "## Βασικές ιδιότητες\n",
    " \n",
    "Οι βασικότερες ιδιότητες των λεξικών είναι οι εξής:\n",
    "\n",
    "Επιτρέπουν πρόσβαση με κλειδί, όχι με θέση\n",
    ": Τα λεξικά ονομάζονται μερικές φορές *συσχετιστικοί πίνακες* (associative\n",
    "  arrays) ή *κατακερματισμοί* (hashes) ειδικά από χρήστες άλλων γλωσσών σεναρίου\n",
    "  (scripting languages). Συσχετίζουν ένα σύνολο *τιμών* (τα `val_1, val_2, ...`)\n",
    "  με *κλειδιά* (τα `key_1, key_2, ...`) και με τον τρόπο αυτό μπορούμε να\n",
    "  ανακτήσουμε ένα στοιχείο από ένα λεξικό, χρησιμοποιώντας το κλειδί με το οποίο\n",
    "  αποθηκεύτηκε αρχικά. Ο τρόπος ευρετηρίασης (indexing) παραμένει ο ίδιος όπως\n",
    "  και στις λίστες, τις πλειάδες κ.λπ. αλλά οι δείκτες που χρησιμοποιούνται είναι\n",
    "  τα κλειδιά και όχι ακέραιοι που υποδηλώνουν σχετική θέση του στοιχείου στο\n",
    "  σύνολο.\n",
    "\n",
    "Είναι μη-διατεταγμένες συλλογές\n",
    ": Σε αντίθεση με τις λίστες όπου τα στοιχεία καταχωρούνται με συγκεκριμένη σειρά\n",
    "  η οποία διατηρείται, στα λεξικά δε συντηρείται κάποια σειρά. Στην\n",
    "  πραγματικότητα, η Python δημιουργεί μία ψεύδο-τυχαία σειρά, από αριστερά προς\n",
    "  τα δεξιά, απλά για να παρέχει γρήγορη αναζήτηση. Τα κλειδιά παρέχουν\n",
    "  συμβολικές (και όχι φυσικές) θέσεις των στοιχείων σε ένα λεξικό.\n",
    "\n",
    "Είναι συλλογές αυθαίρετων αντικειμένων\n",
    ": Τα κλειδιά μπορεί να είναι οποιουδήποτε τύπου αλλά αμετάβλητα (immutable) και\n",
    "  φυσικά αριθμοί και συμβολοσειρές (strings) μπορούν πάντα να είναι κλειδιά. Τα\n",
    "  κλειδιά πρέπει να είναι **μοναδικά** (μέσα στο ίδιο λεξικό), δηλαδή δεν\n",
    "  επιτρέπονται διπλοεγγραφές. Σαν κλειδιά μπορούν να χρησιμοποιηθούν και\n",
    "  πλειάδες (tuples) αν όμως περιέχουν μόνο strings, αριθμούς ή άλλες πλειάδες.\n",
    "  Αν τo tuple περιέχει μεταβλητά στοιχεία (mutable) δεν μπορεί να χρησιμοποιηθεί\n",
    "  σαν key. Λίστες (lists) δεν επιτρέπονται σαν κλειδιά γιατί μπορούν εύκολα να\n",
    "  μεταβληθούν (π.χ. με `append()` και `extend()`). Στα κλειδιά τέλος γίνεται\n",
    "  διάκριση πεζών-κεφαλαίων (case sensitive).\n",
    "\n",
    "  Οι τιμές (values), σε αντίθεση με τα κλειδιά, μπορεί να είναι οποιουδήποτε\n",
    "  τύπου μέσα στο ίδιο λεξικό και μπορούν να επαναλαμβάνονται. Πρακτικά, οι τιμές\n",
    "  μπορεί να είναι σχεδόν οποιοδήποτε αντικείμενο αναγνωρίζεται από την Python!\n",
    "\n",
    "Είναι συλλογές μεταβλητού μεγέθους\n",
    ": Όπως και στις λίστες και σε άλλες δομές δεδομένων, μπορούμε να προσθέτουμε και\n",
    "  να αφαιρούμε στοιχεία από ένα λεξικό, χωρίς την ανάγκη να δημιουργούμε\n",
    "  αντίγραφα για το λόγο αυτό.\n",
    "\n",
    "Επιτρέπουν την αυθαίρετη ένθεση\n",
    ": Υποστηρίζουν ένθεση σε οποιοδήποτε βάθος. Αυτό σημαίνει ότι οποιοδήποτε\n",
    "  στοιχείο μπορεί να περιέχουν άλλη λίστα, άλλο λεξικό κ.λπ. Όπως είπαμε, κάθε\n",
    "  κλειδί μπορεί να έχει μόνο μία συσχετισμένη τιμή, αλλά αυτή η τιμή μπορεί να\n",
    "  είναι μια συλλογή πολλών αντικειμένων, εάν χρειάζεται και μια δεδομένη τιμή\n",
    "  μπορεί να αποθηκευτεί κάτω από οποιονδήποτε αριθμό κλειδιών."
   ]
  },
  {
   "cell_type": "markdown",
   "metadata": {},
   "source": [
    "## Δημιουργία λεξικών\n",
    "\n",
    "Μπορούμε να δημιουργήσουμε λεξικά με διάφορους τρόπους, είτε μέσω του παραπάνω\n",
    "ορισμού είτε με άλλες τεχνικές. Στη συνέχεια φαίνονται οι βασικότεροι τρόποι."
   ]
  },
  {
   "cell_type": "markdown",
   "metadata": {},
   "source": [
    "### Δημιουργία λεξικού βάση ορισμού\n",
    "\n",
    "Μπορούμε να δημιουργήσουμε λεξικά με βάση τον παραπάνω ορισμό. Όπως είπαμε, τα κλειδιά μπορεί να είναι οποιουδήποτε τύπου, όπως ακέραιοι:"
   ]
  },
  {
   "cell_type": "code",
   "execution_count": 132,
   "metadata": {},
   "outputs": [
    {
     "name": "stdout",
     "output_type": "stream",
     "text": [
      "1 πριν\n",
      "2 τώρα\n",
      "3 και\n",
      "4 μετά\n"
     ]
    }
   ],
   "source": [
    "# με κλειδιά ακέραιους\n",
    "dict1 = {1 : 'πριν', 2:'τώρα', 3: 'και', 4: 'μετά'}\n",
    "for i,j in dict1.items():\n",
    "    print(i,j)"
   ]
  },
  {
   "cell_type": "markdown",
   "metadata": {},
   "source": [
    "αλλά και διαφορετικών τύπων:"
   ]
  },
  {
   "cell_type": "code",
   "execution_count": 133,
   "metadata": {},
   "outputs": [
    {
     "name": "stdout",
     "output_type": "stream",
     "text": [
      "ένα πριν\n",
      "2 τώρα\n",
      "τρία και\n",
      "4 μετά\n"
     ]
    }
   ],
   "source": [
    "# με ανάμεικτα κλειδιά\n",
    "dict2 = {\n",
    "    'ένα': 'πριν',\n",
    "    2: 'τώρα',\n",
    "    'τρία': 'και',\n",
    "    4: 'μετά'\n",
    "}\n",
    "\n",
    "for i,j in dict2.items():\n",
    "    print(i,j)"
   ]
  },
  {
   "cell_type": "markdown",
   "metadata": {},
   "source": [
    "Δεν μπορούν όμως να επαναλαμβάνονται. Αν συμβεί κάτι τέτοιο η Python αναγνωρίζει μόνο το τελευταίο από τα όμοια κλειδιά:"
   ]
  },
  {
   "cell_type": "code",
   "execution_count": 134,
   "metadata": {},
   "outputs": [
    {
     "name": "stdout",
     "output_type": "stream",
     "text": [
      "ένα μετά\n",
      "2 τώρα\n",
      "τρία και\n",
      "4 πριν\n"
     ]
    }
   ],
   "source": [
    "# αναγνωρίζονται μόνο μοναδικά κλειδιά\n",
    "dict3 = {\n",
    "    'ένα': 'πριν',\n",
    "    'ένα': 'μετά',\n",
    "    2: 'τώρα',\n",
    "    'τρία': 'και',\n",
    "    4: 'μετά',\n",
    "    4: 'πριν'\n",
    "}\n",
    "\n",
    "for i,j in dict3.items():\n",
    "    print(i,j)"
   ]
  },
  {
   "cell_type": "markdown",
   "metadata": {},
   "source": [
    "### Δημιουργία κενού λεξικού\n",
    "\n",
    "Μπορούμε να δημιουργήσουμε ένα κενό λεξικό απλά χρησιμοποιώντας τα άγκιστρα:"
   ]
  },
  {
   "cell_type": "code",
   "execution_count": 135,
   "metadata": {},
   "outputs": [
    {
     "name": "stdout",
     "output_type": "stream",
     "text": [
      "{}\n"
     ]
    }
   ],
   "source": [
    "dict4 = {}\n",
    "print(dict4)"
   ]
  },
  {
   "cell_type": "markdown",
   "metadata": {},
   "source": [
    "Ο interpreter της Python μπορεί να καταλάβει ότι θέλουμε να δημιουργήσουμε ένα\n",
    "κενό λεξικό και το δημιουργεί. Από εδώ και πέρα μπορούμε να εισάγουμε και να\n",
    "αφαιρούμε στοιχεία με τεχνικές που θα δούμε στη συνέχεια."
   ]
  },
  {
   "cell_type": "markdown",
   "metadata": {},
   "source": [
    "### Δημιουργία λεξικού με τη συνάρτηση `dict()`\n",
    "\n",
    "Μπορούμε να δημιουργήσουμε ένα λεξικό και με την ενσωματωμένη μέθοδο `dict()` με\n",
    "την οποία μάλιστα μπορούμε να εισάγουμε τα **`key:value`** ζεύγη είτε με τον\n",
    "τρόπο που περιγράψαμε παραπάνω είτε σαν σύνολα ζευγών (δηλαδή σε παρενθέσεις):"
   ]
  },
  {
   "cell_type": "code",
   "execution_count": 136,
   "metadata": {},
   "outputs": [
    {
     "name": "stdout",
     "output_type": "stream",
     "text": [
      "1η ημέρα Δευτέρα\n",
      "2η ημέρα Τρίτη\n",
      "3η ημέρα Τετάρτη\n",
      "4η ημέρα Πέμπτη\n",
      "5η ημέρα Παρασκευή\n",
      "6η ημέρα Σάββατο\n",
      "7η ημέρα Κυριακή\n"
     ]
    }
   ],
   "source": [
    "# Δημιουργία λεξικού με χρήση της μεθόδου dict()\n",
    "week_days = dict(\n",
    "    {\n",
    "        '1η ημέρα': 'Δευτέρα',\n",
    "        '2η ημέρα': 'Τρίτη',\n",
    "        '3η ημέρα': 'Τετάρτη',\n",
    "        '4η ημέρα': 'Πέμπτη',\n",
    "        '5η ημέρα': 'Παρασκευή',\n",
    "        '6η ημέρα': 'Σάββατο',\n",
    "        '7η ημέρα': 'Κυριακή'\n",
    "    }\n",
    ")\n",
    "for i,j in week_days.items():\n",
    "    print(i,j)"
   ]
  },
  {
   "cell_type": "markdown",
   "metadata": {},
   "source": [
    "'Αλλοι εναλλακτικοί τρόποι με χρήση της `dict()`:"
   ]
  },
  {
   "cell_type": "code",
   "execution_count": 137,
   "metadata": {},
   "outputs": [
    {
     "data": {
      "text/plain": [
       "True"
      ]
     },
     "execution_count": 137,
     "metadata": {},
     "output_type": "execute_result"
    }
   ],
   "source": [
    "a = dict(one=1, two=2, three=3)\n",
    "b = dict(zip(['one', 'two', 'three'], [1, 2, 3]))\n",
    "c = dict({'three': 3, 'one': 1, 'two': 2})\n",
    "d = dict({'one': 1, 'three': 3}, two=2)\n",
    "f = dict([('one', 1), ('two', 2), ('three', 3)])\n",
    "\n",
    "a == b == c == d == f"
   ]
  },
  {
   "cell_type": "markdown",
   "metadata": {},
   "source": [
    "Περισσότερες πληροφορίες για τη μέθοδο `dict()` στην επίσημη τεκμηρίωση [Mapping\n",
    "Types -- `dict`](https://docs.python.org/3/library/stdtypes.html#typesmapping)"
   ]
  },
  {
   "cell_type": "markdown",
   "metadata": {},
   "source": [
    "### Comprehensions\n",
    "\n",
    "Δε μεταφράζουμε τον όρο γιατί δεν μπορούμε να βρούμε την καταλληλότερη μετάφρασή\n",
    "του. Comprehension είναι μία δυνατότητα που μας δίνει η Python στο να\n",
    "δημιουργούμε λεξικά με συνοπτικό τρόπο. Με τον όρο \"συνοπτικό\" εννοείται ότι,\n",
    "εφόσον τα δεδομένα που χρειαζόμαστε για να σχηματίσουμε τα στοιχεία του λεξικού,\n",
    "δηλαδή τα κλειδιά και οι τιμές (keys, values) είναι ήδη ορισμένα κάπου αλλού (σε\n",
    "κάποια λίστα, αλληλουχία κ.λπ.), μπορούμε να ορίσουμε λειτουργίες που να\n",
    "ανασύρουν αυτά τα δεδομένα παρά να τα καταχωρούμε (στο λεξικό) χειρωνακτικά.\n",
    "\n",
    "Η γενική μορφή της δημιουργίας ενός λεξικού με dictionary comprehension είναι:\n",
    "\n",
    "```python\n",
    "dict_comp = {key:value for (key, value) in iterable(s) if condition(s)}\n",
    "```\n",
    "\n",
    "Η μορφή αυτή πρακτικά λέει: δημιούργησε το λεξικό *dict_comp* με ζεύγη\n",
    "*key:value* όπου τόσο τα key όσο και τα value θα παίρνουν τιμές από το(τα)\n",
    "{term}`iterable(s) <Iterable>` και (προαιρετικά) να ικανοποιούν το(τα)\n",
    "*condition(s)*. \n",
    "\n",
    "Επειδή και η επεξήγηση πιθανώς να αφήνει ερωτηματικά, ας δούμε μερικά\n",
    "παραδείγματα.\n",
    "\n",
    "Μπορούμε να χρησιμοποιήσουμε μαθηματικές εκφράσεις για comprehension:"
   ]
  },
  {
   "cell_type": "code",
   "execution_count": 138,
   "metadata": {},
   "outputs": [
    {
     "name": "stdout",
     "output_type": "stream",
     "text": [
      "{1: 1, 2: 4, 3: 9, 4: 16, 5: 25, 6: 36}\n"
     ]
    }
   ],
   "source": [
    "# Τα δεδομένα από τα οποία θα δημιουργηθούν τα στοιχεία του λεξικού\n",
    "# παράγονται από μαθηματικές εκφράσεις\n",
    "dict_comp1 = {x: x**2 for x in (1, 2, 3, 4, 5, 6)}\n",
    "print(dict_comp1)"
   ]
  },
  {
   "cell_type": "markdown",
   "metadata": {},
   "source": [
    "αλλά και να εφαρμόσουμε υπό συνθήκες περιορισμούς στη δημιουργία: "
   ]
  },
  {
   "cell_type": "code",
   "execution_count": 139,
   "metadata": {},
   "outputs": [
    {
     "name": "stdout",
     "output_type": "stream",
     "text": [
      "{1: 1, 3: 9, 5: 25}\n"
     ]
    }
   ],
   "source": [
    "# Δημιουργία υπό συνθήκη: μόνο οι μονοί αριθμοί και τα τετράγωνά τους\n",
    "# (η έκφραση x%2 !=0 σημαίνει το υπόλοιπο της διαίρεσης του x\n",
    "# με το 2 δεν είναι 0, άρα οι μονοί αριθμοί)\n",
    "dict_comp2 = {x: x**2 for x in (1, 2, 3, 4, 5, 6) if x%2 !=0}\n",
    "print(dict_comp2)"
   ]
  },
  {
   "cell_type": "markdown",
   "metadata": {},
   "source": [
    "Μπορούν όμως τα δεδομένα που θα σχηματίσουν τα ζεύγη **key:value** να ληφθούν και από υφιστάμενες δομές δεδομένων (από άλλα λεξικά, λίστες κ.λπ.)"
   ]
  },
  {
   "cell_type": "markdown",
   "metadata": {},
   "source": [
    "\n",
    "```{margin}\n",
    "Η συνάρτηση [zip()](https://docs.python.org/3/library/functions.html#zip) είναι ενσωματωμένη συνάρτηση της Python (build-in). Εκτελεί παράλληλες επαναλήψεις σε\n",
    "δύο ή περισσότερα {term}`iterables <Iterable>` δημιουργώντας πλειάδες (tuples),\n",
    "με ένα αντικείμενο από το καθένα.\n",
    "```"
   ]
  },
  {
   "cell_type": "code",
   "execution_count": 140,
   "metadata": {},
   "outputs": [
    {
     "name": "stdout",
     "output_type": "stream",
     "text": [
      "Όνομα Νίκος\n",
      "Επώνυμο Αριστομενέας\n",
      "Ηλικία 33\n"
     ]
    }
   ],
   "source": [
    "# Τα δεδομένα από τα οποία θα δημιουργηθούν τα στοιχεία του λεξικού\n",
    "# βρίσκονται σε ανεξάρτητες λίστες\n",
    "a = (\"Όνομα\", \"Επώνυμο\", \"Ηλικία\")\n",
    "b = (\"Νίκος\", \"Αριστομενέας\", 33)\n",
    "\n",
    "dict_comp3 = {key: value for (key,value) in zip(a,b)}\n",
    "for i, j in dict_comp3.items():\n",
    "    print(i,j)"
   ]
  },
  {
   "cell_type": "markdown",
   "metadata": {},
   "source": [
    "Το επόμενο παράδειγμα είναι από το {cite}`Ramalho2015`"
   ]
  },
  {
   "cell_type": "code",
   "execution_count": 141,
   "metadata": {},
   "outputs": [
    {
     "name": "stdout",
     "output_type": "stream",
     "text": [
      "China 86\n",
      "India 91\n",
      "United States 1\n",
      "Indonesia 62\n",
      "Brazil 55\n",
      "Pakistan 92\n",
      "Bangladesh 880\n",
      "Nigeria 234\n",
      "Russia 7\n",
      "Japan 81\n",
      "\n",
      "\n",
      "1 UNITED STATES\n",
      "62 INDONESIA\n",
      "55 BRAZIL\n",
      "7 RUSSIA\n"
     ]
    }
   ],
   "source": [
    "# Διεθνείς κωδικοί κλήσης στη μορφή (κωδικός, χώρα)\n",
    "DIAL_CODES = [\n",
    "    (86, 'China'),\n",
    "    (91, 'India'),\n",
    "    (1, 'United States'),\n",
    "    (62, 'Indonesia'),\n",
    "    (55, 'Brazil'),\n",
    "    (92, 'Pakistan'),\n",
    "    (880, 'Bangladesh'),\n",
    "    (234, 'Nigeria'),\n",
    "    (7, 'Russia'),\n",
    "    (81, 'Japan'),\n",
    "]\n",
    "\n",
    "# Δημιουργία λεξικού με αναστροφή σε 'χώρα:κωδικός'\n",
    "country_code = {country:code for (code,country) in DIAL_CODES}\n",
    "for i,j in country_code.items():\n",
    "    print(i,j)\n",
    "\n",
    "print(\"\\n\")\n",
    "\n",
    "# Ερώτημα στο παραπάνω λεξικό (το οποίο επιστρέφει ένα νέο λεξικό) όπου\n",
    "# η σειρά αντιστρέφεται ξανά σε (κωδικός: χώρα), η χώρα εμφανίζεται με\n",
    "# κεφαλαία και εφαρμογή φίλτρου code<66\n",
    "country_code_quering1 = {\n",
    "    code: country.upper()\n",
    "    for (country, code)\n",
    "    in country_code.items()\n",
    "    if code<66\n",
    "}\n",
    "\n",
    "for i,j in country_code_quering1.items():\n",
    "    print(i,j)"
   ]
  },
  {
   "cell_type": "markdown",
   "metadata": {},
   "source": [
    "## Συναρτήσεις διαθέσιμες για λεξικά\n",
    "\n",
    "Οι ενσωματωμένες συναρτήσεις της Python ([build-in Python\n",
    "functions](https://docs.python.org/3/library/functions.html)) που μπορούν να\n",
    "εφαρμοστούν στα λεξικά είναι οι επόμενες."
   ]
  },
  {
   "cell_type": "markdown",
   "metadata": {},
   "source": [
    "### [`all()`](https://docs.python.org/3/library/functions.html?highlight=all#all)\n",
    "\n",
    "Επιστρέφει `True` αν __όλα__ τα κλειδιά του λεξικού είναι `True` ή αν το λεξικό είναι κενό. Χρειάζεται σε περιπτώσεις π.χ. που θέλουμε να εξακριβώσουμε ότι κάποιος ή κάτι έχει εισάγει `False` τιμές στο λεξικό (ή το αντίθετο).\n"
   ]
  },
  {
   "cell_type": "code",
   "execution_count": 142,
   "metadata": {},
   "outputs": [
    {
     "name": "stdout",
     "output_type": "stream",
     "text": [
      "{0: 'ένα', 1: 'δύο'}\n",
      "False\n"
     ]
    }
   ],
   "source": [
    "# Νέο λεξικό\n",
    "s = {0: 'ένα', 1: 'δύο'}\n",
    "print(s)\n",
    "print(all(s))"
   ]
  },
  {
   "cell_type": "markdown",
   "metadata": {},
   "source": [
    "### [`any()`](https://docs.python.org/3/library/functions.html#any)\n",
    "\n",
    "Επιστρέφει `True` αν __οποιοδήποτε__ από τα κλειδιά του λεξικού είναι `True`. Αν το λεξικό είναι κενό επιστρέφει `False`.\n"
   ]
  },
  {
   "cell_type": "code",
   "execution_count": 143,
   "metadata": {},
   "outputs": [
    {
     "name": "stdout",
     "output_type": "stream",
     "text": [
      "{0: 'ένα', 1: 'δύο'}\n",
      "True\n"
     ]
    }
   ],
   "source": [
    "# Το προηγούμενο λεξικό s. Τώρα η λογική είναι αντίθετη:\n",
    "# έστω και ένα κλειδί να είναι True, το αποτέλεσμα είναι True\n",
    "print(s)\n",
    "print(any(s))"
   ]
  },
  {
   "cell_type": "markdown",
   "metadata": {},
   "source": [
    "### [`len()`](https://docs.python.org/3/library/functions.html#len)\n",
    "\n",
    "Επιστρέφει το \"μέγεθος\" του λεξικού (τον αριθμό των στοιχείων του).\n"
   ]
  },
  {
   "cell_type": "code",
   "execution_count": 144,
   "metadata": {},
   "outputs": [
    {
     "name": "stdout",
     "output_type": "stream",
     "text": [
      "2\n"
     ]
    }
   ],
   "source": [
    "# Το μέγεθος του προηγούμενου λεξικού\n",
    "print(len(s))"
   ]
  },
  {
   "cell_type": "markdown",
   "metadata": {},
   "source": [
    "### [`sorted()`](https://docs.python.org/3/library/functions.html#sorted)\n",
    "\n",
    "Επιστρέφει μία νέα ταξινομημένη *λίστα κλειδιών* στο λεξικό. Η γενική της μορφή είναι `sorted(iterable, key, reverse)` όπου *`iterable`* είναι το λεξικό τα κλειδιά του οποίου θέλουμε να ταξινομήσουμε, *`key`* (προαιρετικό) είναι μια συνάρτηση που μπορεί να χρησιμεύσει σαν κλειδί ή σαν βάση σύγκρισης - ταξινόμησης και το *`reverse`* (προαιρετικό), αν είναι `True`, τα κλειδιά θα ταξινομηθούν με φθίνουσα σειρά (από προεπιλογή είναι `False`)."
   ]
  },
  {
   "cell_type": "code",
   "execution_count": 145,
   "metadata": {},
   "outputs": [
    {
     "name": "stdout",
     "output_type": "stream",
     "text": [
      "['7η ημέρα', '6η ημέρα', '5η ημέρα', '4η ημέρα', '3η ημέρα', '2η ημέρα', '1η ημέρα']\n"
     ]
    }
   ],
   "source": [
    "print(sorted(week_days, reverse=True))"
   ]
  },
  {
   "cell_type": "markdown",
   "metadata": {},
   "source": [
    "## Μεθοδοι λεξικών\n",
    "\n",
    "Μπορούμε να δούμε τις μεθόδους που είναι διαθέσιμες για λεξικά μέσω της\n",
    "ενσωματωμένης συνάρτησης\n",
    "[`dir()`](https://docs.python.org/3/library/functions.html?highlight=dir#dir)\n",
    "π.χ. για το παραπάνω λεξικό `dict1` με `dir(dict1)`.\n",
    "\n",
    "Οι σημαντικότερες μέθοδοι φαίνονται στη συνέχεια."
   ]
  },
  {
   "cell_type": "markdown",
   "metadata": {},
   "source": [
    "### [`clear()`](https://docs.python.org/3/library/stdtypes.html?highlight=clear#dict.clear)\n",
    "\n",
    "Αφαιρεί όλα τα στοιχεία από το λεξικό."
   ]
  },
  {
   "cell_type": "code",
   "execution_count": 146,
   "metadata": {},
   "outputs": [
    {
     "name": "stdout",
     "output_type": "stream",
     "text": [
      "{}\n"
     ]
    }
   ],
   "source": [
    "# Παράδειγμα clear()\n",
    "# θυμηθείτε το λεξικό dict1 παραπάνω\n",
    "dict1.clear()\n",
    "print(dict1)"
   ]
  },
  {
   "cell_type": "markdown",
   "metadata": {},
   "source": [
    "### [`copy()`](https://docs.python.org/3/library/stdtypes.html?highlight=copy#dict.copy)\n",
    "\n",
    "Επιστρέφει ένα αντίγραφο του λεξικού."
   ]
  },
  {
   "cell_type": "code",
   "execution_count": 147,
   "metadata": {},
   "outputs": [
    {
     "name": "stdout",
     "output_type": "stream",
     "text": [
      "{'ένα': 'πριν', 2: 'τώρα', 'τρία': 'και', 4: 'μετά'}\n",
      "{'ένα': 'πριν', 2: 'τώρα', 'τρία': 'και', 4: 'μετά'}\n"
     ]
    },
    {
     "data": {
      "text/plain": [
       "True"
      ]
     },
     "execution_count": 147,
     "metadata": {},
     "output_type": "execute_result"
    }
   ],
   "source": [
    "# Παράδειγμα copy()\n",
    "# θυμηθείτε το λεξικό dict2 παραπάνω\n",
    "dict2_copy = dict2.copy()\n",
    "print(dict2)\n",
    "print(dict2_copy)\n",
    "dict2 == dict2_copy "
   ]
  },
  {
   "cell_type": "markdown",
   "metadata": {},
   "source": [
    "### [`fromkeys()`](https://docs.python.org/3/library/stdtypes.html?highlight=fromkeys#dict.fromkeys)\n",
    "\n",
    "Δημιουργεί ένα λεξικό με βάση δεδομένα κλειδιά και τιμές. Μπορεί να θεωρηθεί\n",
    "ένας διαφορετικός τρόπος δημιουργίας λεξικού."
   ]
  },
  {
   "cell_type": "code",
   "execution_count": 148,
   "metadata": {},
   "outputs": [
    {
     "name": "stdout",
     "output_type": "stream",
     "text": [
      "{'α': 3, 'β': 3, 'γ': 3}\n"
     ]
    }
   ],
   "source": [
    "# Παράδειγμα fromkeys()\n",
    "# θυμηθείτε το κενό λεξικό dict3 παραπάνω. Θα το \"γεμίσουμε\" με νέες τιμές\n",
    "new_keys = {'α', 'β', 'γ'}\n",
    "new_value = 3\n",
    "dict3 = dict3.fromkeys(new_keys, new_value)\n",
    "print(dict3)"
   ]
  },
  {
   "cell_type": "markdown",
   "metadata": {},
   "source": [
    "(sec:python-dictionary-method-get)=\n",
    "### [`get(key[, default])`](https://docs.python.org/3/library/stdtypes.html?highlight=get#dict.get)\n",
    "\n",
    "Επιστρέφει την τιμή που έχει αντιστοιχιστεί στο κλειδί *key*, αν αυτό βρίσκεται\n",
    "στο λεξικό, αλλιώς επιστρέφει *default*. Αν δε δοθεί *default* (είναι\n",
    "προαιρετικό) επιστρέφει `None`."
   ]
  },
  {
   "cell_type": "code",
   "execution_count": 149,
   "metadata": {},
   "outputs": [
    {
     "name": "stdout",
     "output_type": "stream",
     "text": [
      "Πέμπτη\n"
     ]
    }
   ],
   "source": [
    "# Παράδειγμα get()\n",
    "# Από το λεξικό week_days θα ζητήσουμε την 4η ημέρα της εβδομάδας\n",
    "print(week_days.get('4η ημέρα'))"
   ]
  },
  {
   "cell_type": "markdown",
   "metadata": {},
   "source": [
    "(sec:python-dictionary-method-items)=\n",
    "### [`items()`](https://docs.python.org/3/library/stdtypes.html?highlight=items#dict.items)\n",
    "\n",
    "Επιστρέφει μία νέα (δυναμική) προβολή **των στοιχείων** του λεξικού (`key:value`\n",
    "pairs). Είναι ένα *αντικείμενο προβολής* (view object, δες περισσότερα στο\n",
    "`docs.python.org`: [\"_Dictionary view\n",
    "objects_\"](https://docs.python.org/3/library/stdtypes.html?highlight=items#dict-views))"
   ]
  },
  {
   "cell_type": "code",
   "execution_count": 150,
   "metadata": {},
   "outputs": [
    {
     "name": "stdout",
     "output_type": "stream",
     "text": [
      "dict_items([('1η ημέρα', 'Δευτέρα'), ('2η ημέρα', 'Τρίτη'), ('3η ημέρα', 'Τετάρτη'), ('4η ημέρα', 'Πέμπτη'), ('5η ημέρα', 'Παρασκευή'), ('6η ημέρα', 'Σάββατο'), ('7η ημέρα', 'Κυριακή')])\n"
     ]
    }
   ],
   "source": [
    "# Παράδειγμα items()\n",
    "# Θα ζητήσουμε όλα τα items του week_days\n",
    "print(week_days.items())"
   ]
  },
  {
   "cell_type": "markdown",
   "metadata": {},
   "source": [
    "(sec:python-dictionary-method-keys)=\n",
    "### [`keys()`](https://docs.python.org/3/library/stdtypes.html?highlight=keys#dict.keys)\n",
    "\n",
    "Όπως και παραπάνω, επιστρέφει μία προβολή **των κλειδιών** του λεξικού (δες\n",
    "`docs.python.org`: [\"_Dictionary view\n",
    "objects_\"](https://docs.python.org/3/library/stdtypes.html?highlight=items#dict-views))"
   ]
  },
  {
   "cell_type": "code",
   "execution_count": 151,
   "metadata": {},
   "outputs": [
    {
     "name": "stdout",
     "output_type": "stream",
     "text": [
      "dict_keys(['1η ημέρα', '2η ημέρα', '3η ημέρα', '4η ημέρα', '5η ημέρα', '6η ημέρα', '7η ημέρα'])\n"
     ]
    }
   ],
   "source": [
    "# Παράδειγμα keys()\n",
    "# Θα ζητήσουμε όλα τα keys του week_days\n",
    "print(week_days.keys())"
   ]
  },
  {
   "cell_type": "markdown",
   "metadata": {},
   "source": [
    "(sec:python-dictionary-method-pop)=\n",
    "### [`pop(key[, default])`](https://docs.python.org/3/library/stdtypes.html?highlight=pop#dict.pop)\n",
    "\n",
    "Αν το _key_ ανήκει στο λεξικό το αφαιρεί και επιστρέφει την τιμή του. Αν δεν ανήκει στο λεξικό απλά επιστρέφει _default_. Αν δεν έχει δοθεί default τιμή, επιστρέφει μήνυμα λάθους `KeyError`."
   ]
  },
  {
   "cell_type": "code",
   "execution_count": 152,
   "metadata": {},
   "outputs": [
    {
     "name": "stdout",
     "output_type": "stream",
     "text": [
      "1η ημέρα Δευτέρα\n",
      "2η ημέρα Τρίτη\n",
      "3η ημέρα Τετάρτη\n",
      "4η ημέρα Πέμπτη\n",
      "5η ημέρα Παρασκευή\n",
      "6η ημέρα Σάββατο\n",
      "7η ημέρα Κυριακή\n",
      "\n",
      "\n",
      "1η ημέρα Δευτέρα\n",
      "2η ημέρα Τρίτη\n",
      "3η ημέρα Τετάρτη\n",
      "5η ημέρα Παρασκευή\n",
      "6η ημέρα Σάββατο\n",
      "7η ημέρα Κυριακή\n"
     ]
    }
   ],
   "source": [
    "# νέο λεξικό με τις ημέρες της εβδομάδας\n",
    "week_days2 = week_days.copy()\n",
    "for i,j in week_days2.items():\n",
    "    print(i,j)\n",
    "\n",
    "print(\"\\n\")\n",
    "\n",
    "# Θα αφαιρέσουμε την '4η ημέρα' από το νέο λεξικό\n",
    "imera_ektos = week_days2.pop('4η ημέρα')\n",
    "for i,j in week_days2.items():\n",
    "    print(i,j)"
   ]
  },
  {
   "cell_type": "markdown",
   "metadata": {},
   "source": [
    "(sec:python-dictionary-method-popitem)=\n",
    "### [`popitem()`](https://docs.python.org/3/library/stdtypes.html?highlight=popitem#dict.popitem)\n",
    "\n",
    "Αφαιρεί πλήρως ένα ζεύγος __key: value__ και επιστρέφει τις τιμές τους. Προσοχή! δεν παίρνει κάποιο όρισμα, αφαιρεί το ζεύγος __key: value__ που δημιουργήθηκε τελευταίο στο λεξικό. Ακολουθεί δηλαδή τη σειρά Last In, First Out (LIFO)."
   ]
  },
  {
   "cell_type": "code",
   "execution_count": 153,
   "metadata": {},
   "outputs": [
    {
     "name": "stdout",
     "output_type": "stream",
     "text": [
      "όνομα Βασίλης\n",
      "ηλικία 22\n",
      "μισθός 1200.0\n",
      "\n",
      "\n",
      "Η popitem() επιστρέφει την τιμή:  ('μισθός', 1200.0)\n",
      "\n",
      "\n",
      "Το λεξικό τώρα έχει στοιχεία: \n",
      "όνομα Βασίλης\n",
      "ηλικία 22\n"
     ]
    }
   ],
   "source": [
    "# νέο λεξικό\n",
    "person = {'όνομα': 'Βασίλης', 'ηλικία': 22, 'μισθός': 1200.0}\n",
    "for i,j in person.items():\n",
    "    print(i,j)\n",
    "\n",
    "print(\"\\n\")\n",
    "\n",
    "# Το στοιχείο ('μισθός': 1200.0) είναι το τελευταίο στοιχείο. Αυτό θα αφαιρεθεί.\n",
    "poped_person = person.popitem()\n",
    "print('Η popitem() επιστρέφει την τιμή: ', poped_person)\n",
    "\n",
    "print(\"\\n\")\n",
    "\n",
    "print('Το λεξικό τώρα έχει στοιχεία: ')\n",
    "for i,j in person.items():\n",
    "    print(i,j)"
   ]
  },
  {
   "cell_type": "markdown",
   "metadata": {},
   "source": [
    "### [`setdefault(key[, default])`](https://docs.python.org/3/library/stdtypes.html?highlight=setdefault#dict.setdefault)\n",
    "\n",
    "Αν το *key* ανήκει στο λεξικό επιστρέφει την τιμή του. Αν όχι, εισάγει στο λεξικό ένα νέο κλειδί *key* με τιμή *default*. Αν δε δοθεί default δίνεται η τιμή `None`."
   ]
  },
  {
   "cell_type": "code",
   "execution_count": 154,
   "metadata": {},
   "outputs": [
    {
     "name": "stdout",
     "output_type": "stream",
     "text": [
      "Στοιχεία ατόμου: {'όνομα': 'Βασίλης', 'ηλικία': 22}\n",
      "Ηλικία: 22 \n",
      "\n",
      "Στοιχεία ατόμου: {'όνομα': 'Βασίλης', 'ηλικία': 22, 'ενδιαφέροντα': None}\n",
      "Ενδιαφέροντα: None \n",
      "\n",
      "Στοιχεία ατόμου: {'όνομα': 'Βασίλης', 'ηλικία': 22, 'ενδιαφέροντα': None, 'ύψος': 188}\n",
      "Ύψος: 188\n"
     ]
    }
   ],
   "source": [
    "# από το παραπάνω λεξικό person\n",
    "age = person.setdefault('ηλικία')\n",
    "print('Στοιχεία ατόμου:', person)\n",
    "print('Ηλικία:',age, \"\\n\")\n",
    "\n",
    "# αν το key δεν ανήκει στο λεξικό και δε δίνεται default τιμή\n",
    "hobby = person.setdefault('ενδιαφέροντα')\n",
    "print('Στοιχεία ατόμου:', person)\n",
    "print('Ενδιαφέροντα:', hobby, \"\\n\")\n",
    "\n",
    "# αν το key δεν ανήκει στο λεξικό αλλά δίνεται default τιμή\n",
    "height = person.setdefault('ύψος', 188)\n",
    "print('Στοιχεία ατόμου:',person)\n",
    "print('Ύψος:', height)"
   ]
  },
  {
   "cell_type": "markdown",
   "metadata": {},
   "source": [
    "### [`update([other])`](https://docs.python.org/3/library/stdtypes.html?highlight=update#dict.update)\n",
    "\n",
    "Ενημερώνει τα ζεύγη __key: value__ ενός λεξικού, με αυτά του *other*, το οποίο μπορεί να είναι ένα άλλο λεξικό, μία δομή επανάληψης, ένα tuple κ.λπ. Προσοχή, τα παλιά ζεύγη αντικαθιστώνται! Επιστρέφει `None`"
   ]
  },
  {
   "cell_type": "code",
   "execution_count": 155,
   "metadata": {},
   "outputs": [
    {
     "data": {
      "text/plain": [
       "{'a': 10, 'b': 200, 'c': 30, 'd': 400}"
      ]
     },
     "execution_count": 155,
     "metadata": {},
     "output_type": "execute_result"
    }
   ],
   "source": [
    "# Δύο νέα λεξικά\n",
    "d1 = {'a': 10, 'b': 20, 'c': 30}\n",
    "d2 = {'b': 200, 'd': 400}\n",
    "\n",
    "# ενημέρωση του πρώτου με το δεύτερο\n",
    "d1.update(d2)\n",
    "\n",
    "d1"
   ]
  },
  {
   "cell_type": "markdown",
   "metadata": {},
   "source": [
    "(sec:python-dictionary-method-values)=\n",
    "### [`values()`](https://docs.python.org/3/library/stdtypes.html?highlight=values#dict.values)\n",
    "\n",
    "Όπως και τα `items()` και `keys()` είναι ένα αντικείμενο προβολής. Επιστρέφει μία προβολή **των τιμών** του λεξικού (δες `docs.python.org`: [\"_Dictionary view objects_\"](https://docs.python.org/3/library/stdtypes.html?highlight=items#dict-views))."
   ]
  },
  {
   "cell_type": "code",
   "execution_count": 156,
   "metadata": {},
   "outputs": [
    {
     "data": {
      "text/plain": [
       "[10, 20, 30]"
      ]
     },
     "execution_count": 156,
     "metadata": {},
     "output_type": "execute_result"
    }
   ],
   "source": [
    "# νέο λεξικό\n",
    "d = {'a': 10, 'b': 20, 'c': 30}\n",
    "\n",
    "# η values() επιστρέφει τη λίστα με τις τιμές\n",
    "# (όχι τα κλειδιά)\n",
    "list(d.values())\n",
    "\n",
    "# ή\n",
    "#print(d.values())"
   ]
  },
  {
   "cell_type": "markdown",
   "metadata": {},
   "source": [
    "## Διαχείριση δεδομένων\n",
    "\n",
    "Όπως ήδη γνωρίζουμε, στις υπόλοιπες δομές δεδομένων της Python η ευρετηρίαση\n",
    "(indexing) των δεδομένων γίνεται με ακέραιους αριθμούς που αυτόματα η Python\n",
    "αναθέτει σαν δείκτες για το καθένα (π.χ. με `data_structure[i]`) ή εύρη δεικτών\n",
    "`data_structure[i:j]`). Κάθε ακέραιος υποδηλώνει τη θέση στην οποία βρίσκεται το\n",
    "δεδομένο μέσα στη δομή. Για παράδειγμα στο `data_structure[3]` το 3 σημαίνει το\n",
    "4ο στοιχείο μέσα στη δομή `data_structure` (δεν ξεχνάμε ότι η απαρίθμηση\n",
    "ξεκινάει πάντα από το 0).\n",
    "\n",
    "Αυτό δεν ισχύει στα λεξικά όπου η έννοια της διαδοχικότητας (ή αλληλουχίας,\n",
    "sequence, 1ο, 2ο, 3ο στοιχείο κ.λπ.), δεν υφίσταται αφού πλέον κάθε *τιμή*\n",
    "(δεδομένο) συσχετίζεται με ένα *κλειδί*. Ο μόνος τρόπος να προσπελάσει κάποιος\n",
    "ένα δεδομένο (μία τιμή) είναι το κλειδί με το οποίο έχει συσχετιστεί. Παρόλα\n",
    "αυτά, η πρόσβαση στα δεδομένα γίνεται και πάλι μέσα σε αγκύλες ( `[ ]` ) ή μέσω\n",
    "της μεθόδου `get()` (την είδαμε στην {ref}`ενότητα get()\n",
    "<sec:python-dictionary-method-get>` παραπανω).\n",
    "\n",
    "```{admonition} Σημείωση\n",
    ":class: note\n",
    "\n",
    "Με αυτό τον τρόπο εύρεσης δεδομένων (δηλαδή με τη μορφή `dict[key]`) μπορούμε να\n",
    "έχουμε πρόσβαση στις τιμές (values) αλλά όχι το αντίθετο. Δηλαδή δεν μπορούμε να\n",
    "έχουμε πρόσβαση σε ένα κλειδί από την τιμή του.\n",
    "```"
   ]
  },
  {
   "cell_type": "markdown",
   "metadata": {},
   "source": [
    "### Πρόσβαση στα δεδομένα\n",
    "\n",
    "Η λειτουργία ανεύρεσης *`dictionary[key]`* επιστρέφει την τιμή που αντιστοιχεί στο κλειδί *key*. Αν το κλειδί δεν υπάρχει στο λεξικό επιστρέφει λάθος `KeyError`. "
   ]
  },
  {
   "cell_type": "code",
   "execution_count": 157,
   "metadata": {},
   "outputs": [
    {
     "name": "stdout",
     "output_type": "stream",
     "text": [
      "1η ημέρα Δευτέρα\n",
      "2η ημέρα Τρίτη\n",
      "3η ημέρα Τετάρτη\n",
      "4η ημέρα Πέμπτη\n",
      "5η ημέρα Παρασκευή\n",
      "6η ημέρα Σάββατο\n",
      "7η ημέρα Κυριακή\n",
      "\n",
      "\n",
      "Η πρώτη μέρα της εβδομάδας είναι η:  Δευτέρα\n",
      "Το επιβεβαιώνουμε και με την get():  Δευτέρα \n",
      "\n"
     ]
    }
   ],
   "source": [
    "# Θυμηθείτε το λεξικό week_days παραπάνω. Εδώ ζητάμε την τιμή που αντιστοιχεί\n",
    "# στο κλειδί '1η ημέρα'\n",
    "for i, j in week_days.items():\n",
    "    print(i, j)\n",
    "\n",
    "print(\"\\n\")\n",
    "\n",
    "# Ζητάμε το πρώτο στοιχείο του λεξικού με βάση το κλειδί\n",
    "print(\"Η πρώτη μέρα της εβδομάδας είναι η: \", week_days['1η ημέρα'])\n",
    "\n",
    "# Το ίδιο με χρήση της μεθόδου get()\n",
    "print(\"Το επιβεβαιώνουμε και με την get(): \", week_days.get('1η ημέρα'), \"\\n\")"
   ]
  },
  {
   "cell_type": "markdown",
   "metadata": {},
   "source": [
    "Αν δώσουμε\n",
    "\n",
    "```{code} python\n",
    "print(week_days['12η ημέρα'])\n",
    "```\n",
    "\n",
    "Θα πάρουμε μήνυμα λάθους: `KeyError: 12η ημέρα' γιατί δεν υπάρχει κλειδί '12η\n",
    "ημέρα'\n",
    "\n",
    "Παρατηρήστε ότι από το λεξικό λείπει το στοιχείο `'4η ημέρα': 'Πέμπτη'` γιατί το\n",
    "είχαμε αφαιρέσει όταν εξετάζαμε τη λειτουργία της μεθόδου {ref}`pop() <sec:python-dictionary-method-pop>` παραπάνω. Θα το ξαναπροσθέσουμε στη συνέχεια."
   ]
  },
  {
   "cell_type": "markdown",
   "metadata": {},
   "source": [
    "### Προσθήκη και ενημέρωση δεδομένων\n",
    "\n",
    "Με τη λειτουργία *`dictionary[key]`* μπορούμε και να προσθέσουμε νέα στοιχεία\n",
    "στο λεξικό. Στη συνέχεια δημιουργούμε ένα νέο, κενό λεξικό και σταδιακά προσθέτουμε 2 στοιχεία."
   ]
  },
  {
   "cell_type": "code",
   "execution_count": 158,
   "metadata": {},
   "outputs": [
    {
     "name": "stdout",
     "output_type": "stream",
     "text": [
      "{}\n",
      "{1975: 'Holy Grail', 1979: 'Life of Brian'}\n"
     ]
    }
   ],
   "source": [
    "# νέο λεξικό, movie_db\n",
    "movie_db = {}\n",
    "print(movie_db)\n",
    "\n",
    "# Προσθήκη δύο στοιχείων με χρονολογία σαν κλειδί και \n",
    "# τίτλο ταινίας σαν τιμή\n",
    "movie_db[1975] = \"Holy Grail\"\n",
    "movie_db[1979] = \"Life of Brian\"\n",
    "print(movie_db)\n"
   ]
  },
  {
   "cell_type": "markdown",
   "metadata": {},
   "source": [
    "Μπορούμε επίσης να ενημερώσουμε (αλλάξουμε) υφιστάμενα στοιχεία του λεξικού."
   ]
  },
  {
   "cell_type": "code",
   "execution_count": 159,
   "metadata": {},
   "outputs": [
    {
     "name": "stdout",
     "output_type": "stream",
     "text": [
      "name {'first': 'John', 'last': 'Snow'}\n",
      "age 26\n",
      "job worker\n",
      "salary 1500\n",
      "\n",
      "\n",
      "name {'first': 'John', 'last': 'Snow'}\n",
      "age 37\n",
      "job worker\n",
      "salary 1500\n"
     ]
    }
   ],
   "source": [
    "# Νέο λεξικό\n",
    "person1 = {\n",
    "    'name': {\n",
    "        'first': 'John',\n",
    "        'last': 'Snow',\n",
    "    },\n",
    "    'age': 26,\n",
    "    'job': 'worker',\n",
    "    'salary': 1500\n",
    "}\n",
    "for i, j in person1.items():\n",
    "    print(i, j)\n",
    "\n",
    "print(\"\\n\")\n",
    "\n",
    "# αλλαγή της τιμής 26 στο στοιχείο `age`\n",
    "person1['age'] = 37\n",
    "for i, j in person1.items():\n",
    "    print(i,j)"
   ]
  },
  {
   "cell_type": "markdown",
   "metadata": {},
   "source": [
    "Στο παραπάνω παράδειγμα παρατηρήστε ότι η τιμή ενός κλειδιού (του `name`) είναι\n",
    "ένα νέο λεξικό. Πρόκειται δηλαδή για ένθετη δομή δεδομένων. Η πρόσβαση λοιπόν με\n",
    "τη λειτουργία `person1['name']` επιστρέφει ένα ολόκληρο λεξικό και όχι μία απλή\n",
    "τιμή. Η πρόσβαση στα δεδομένα αυτού του λεξικού γίνεται με ανάλογο τρόπο:\n",
    "`person1['name'][key]`"
   ]
  },
  {
   "cell_type": "markdown",
   "metadata": {},
   "source": [
    "### Διαγραφή δεδομένων\n",
    "\n",
    "Διαγραφή υπαρχόντων δεδομένων μπορεί να γίνει με τη μέθοδο {ref}`pop() <sec:python-dictionary-method-pop>` που είδαμε παραπάνω. Η μέθοδος απορρίπτει\n",
    "(διαγράφει) το ζευγάρι **key:value** με βάση το *key* που δίνουμε και επιστρέφει\n",
    "το *value*."
   ]
  },
  {
   "cell_type": "code",
   "execution_count": 160,
   "metadata": {},
   "outputs": [
    {
     "name": "stdout",
     "output_type": "stream",
     "text": [
      "name {'first': 'John', 'last': 'Snow'}\n",
      "age 37\n",
      "job worker\n",
      "salary 1500\n",
      "\n",
      "\n",
      "worker\n",
      "name {'first': 'John', 'last': 'Snow'}\n",
      "age 37\n",
      "salary 1500\n"
     ]
    }
   ],
   "source": [
    "# Δημιουργία αντιγράφου του προηγούμενου λεξικού\n",
    "person2 = person1.copy()\n",
    "for i, j in person2.items():\n",
    "    print(i, j)\n",
    "\n",
    "print(\"\\n\")\n",
    "\n",
    "# Διαγραφή του στοιχείου job. Η pop() διαγράφει όλο το ζευγάρι 'job': 'worker'\n",
    "# και επιστρέφει μόνο 'worker'\n",
    "print(person2.pop('job'))\n",
    "for i, j in person2.items():\n",
    "    print(i, j)"
   ]
  },
  {
   "cell_type": "markdown",
   "metadata": {},
   "source": [
    "Αν θέλουμε μπορούμε να διαγράψουμε το τελευταίο στοιχείο του λεξικού με την\n",
    "{ref}`popitem() <sec:python-dictionary-method-popitem>`. Χρειάζεται μία προσοχή\n",
    "γιατί η `popitem()` συνεχίζει να διαγράφει το τελευταίο κάθε φορά στοιχείο του\n",
    "λεξικού, αν εκτελεστεί ξανά και ξανά."
   ]
  },
  {
   "cell_type": "code",
   "execution_count": 161,
   "metadata": {},
   "outputs": [
    {
     "name": "stdout",
     "output_type": "stream",
     "text": [
      "('salary', 1500)\n",
      "\n",
      "\n",
      "name {'first': 'John', 'last': 'Snow'}\n",
      "age 37\n"
     ]
    }
   ],
   "source": [
    "# Διαγραφή του τελευταίου στοιχείου του person2 με τη βοήθεια της popitem()\n",
    "print(person2.popitem())\n",
    "\n",
    "print(\"\\n\")\n",
    "\n",
    "# Τώρα το λεξικό έμεινε μόνο με τα στοιχεία:\n",
    "for i, j in person2.items():\n",
    "    print(i, j)"
   ]
  },
  {
   "cell_type": "markdown",
   "metadata": {},
   "source": [
    "## Επαναλήψεις σε λεξικά (loops)\n",
    "\n",
    "Μπορούμε να εφαρμόσουμε επαναλήψεις σε λεξικά (σάρωση όλων των στοιχείων τους) με απλή εφαρμογή ένός βρόφχου επανάληψης `for`:"
   ]
  },
  {
   "cell_type": "code",
   "execution_count": 162,
   "metadata": {},
   "outputs": [
    {
     "name": "stdout",
     "output_type": "stream",
     "text": [
      "a\n",
      "b\n",
      "c\n",
      "d\n"
     ]
    }
   ],
   "source": [
    "ppd = {\"a\":123, \"b\":34, \"c\":304, \"d\":99}\n",
    "for key in ppd:\n",
    "     print(key)"
   ]
  },
  {
   "cell_type": "markdown",
   "metadata": {},
   "source": [
    "Όμως, όπως είδαμε, είναι διαθέσιμες και τρεις πολύ βολικές μέθοδοι οι\n",
    "οποίες ανασύρουν τα στοιχεία τους, οι\n",
    "{ref}`items()<sec:python-dictionary-method-items>`,\n",
    "{ref}`keys()<sec:python-dictionary-method-keys>` και\n",
    "{ref}`values()<sec:python-dictionary-method-values>`:"
   ]
  },
  {
   "cell_type": "code",
   "execution_count": 163,
   "metadata": {},
   "outputs": [
    {
     "name": "stdout",
     "output_type": "stream",
     "text": [
      "['a', 'b', 'c', 'd'] \n",
      "\n",
      "[123, 34, 304, 99] \n",
      "\n",
      "[('a', 123), ('b', 34), ('c', 304), ('d', 99)]\n"
     ]
    }
   ],
   "source": [
    "print(list(ppd.keys()), \"\\n\")\n",
    "print(list(ppd.values()), \"\\n\")\n",
    "print(list(ppd.items()))"
   ]
  },
  {
   "cell_type": "markdown",
   "metadata": {},
   "source": [
    "Εκμεταλλευόμενοι τα αποτελέσματα αυτών των μεθόδων, μπορούμε να εφαρμόσουμε\n",
    "`for` loops για να σαρώσουμε είτε μόνο τα κλειδιά, είτε μόνο τις τιμές είτε τα\n",
    "κλειδιά και τις τιμές ταυτόχρονα. Για παράδειγμα, πολλές φορές μέχρι τώρα έχουμε\n",
    "εφαρμόσει μία τέτοια επανάληψη `for` για να εκτυπώνουμε τα ζεύγη *key:value*\n",
    "ενός λεξικού:\n",
    "\n",
    "```python\n",
    "for i, j in dict.items():\n",
    "    print(i, j)\n",
    "```\n",
    "\n",
    "Η μέθοδος {ref}`items() <sec:python-dictionary-method-items>` επιστρέφει τα\n",
    "στοιχεία ενός λεξικού δηλαδή τα ζεύγη *key:value*. Με το βρόγχο `for` αναθέτουμε\n",
    "αυτά τα δεδομένα στις προσωρινές μεταβλητές `i` και `j` τις οποίες στη συνέχεια\n",
    "εκτυπώνουμε."
   ]
  }
 ],
 "metadata": {
  "celltoolbar": "Tags",
  "kernelspec": {
   "display_name": "Python 3 (ipykernel)",
   "language": "python",
   "name": "python3"
  },
  "language_info": {
   "codemirror_mode": {
    "name": "ipython",
    "version": 3
   },
   "file_extension": ".py",
   "mimetype": "text/x-python",
   "name": "python",
   "nbconvert_exporter": "python",
   "pygments_lexer": "ipython3",
   "version": "3.9.13"
  },
  "vscode": {
   "interpreter": {
    "hash": "b3df4dfec034666f2674cc849d2b7e3a8c54efbcd409ed7fceac7fa5bca6a09b"
   }
  }
 },
 "nbformat": 4,
 "nbformat_minor": 2
}
